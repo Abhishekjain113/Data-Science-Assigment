{
 "cells": [
  {
   "attachments": {},
   "cell_type": "markdown",
   "metadata": {},
   "source": []
  },
  {
   "cell_type": "code",
   "execution_count": null,
   "metadata": {},
   "outputs": [],
   "source": [
    "Q1 Q1. Explain the difference between simple linear regression and multiple linear regression. Provide an\n",
    "example of each.\n",
    "Ans. \n",
    "  Simple linear regression involves modeling the relationship between two variables, where one variable (dependent variable) is predicted based on the other variable (independent variable). For example, predicting house prices based on the size of the house.\n",
    "  Multiple linear regression, on the other hand, involves modeling the relationship between multiple independent variables and a dependent variable. It considers the simultaneous effect of multiple variables on the outcome. For example, predicting house prices based on the size, number of bedrooms, and location of the house.\n",
    "\n",
    "Q2. Discuss the assumptions of linear regression. How can you check whether these assumptions hold in\n",
    "a given dataset?\n",
    "Ans. \n",
    "   Assumptions of linear regression include linearity, independence, homoscedasticity (constant variance), normality of errors, and absence of multicollinearity. To check whether these assumptions hold in a given dataset, you can use diagnostic plots like residual plots, normality plots, and scatterplots to assess linearity and homoscedasticity. Statistical tests like the Durbin-Watson test can check for independence, and correlation matrices can help detect multicollinearity.\n",
    "\n",
    "Q3. How do you interpret the slope and intercept in a linear regression model? Provide an example using\n",
    "a real-world scenario.\n",
    "Ans. \n",
    "   In a linear regression model, the slope represents the change in the dependent variable for a one-unit change in the independent variable. It indicates the rate of change in the outcome variable. The intercept represents the value of the dependent variable when all independent variables are zero. For example, in a real-world scenario, the slope of a linear regression model predicting sales based on advertising expenditure would represent the increase in sales for each additional unit of advertising spent, while the intercept would represent the expected sales when no advertising is done.\n",
    "\n",
    "Q4. Explain the concept of gradient descent. How is it used in machine learning?\n",
    "Ans.\n",
    "    Gradient descent is an optimization algorithm used in machine learning to minimize the error or cost function of a model. It iteratively adjusts the model's parameters (coefficients) by calculating the gradient of the cost function and updating the parameters in the direction of steepest descent. This process continues until the algorithm converges to the optimal parameter values. Gradient descent is used in various machine learning algorithms, including linear regression, to find the best-fit line that minimizes the sum of squared errors.\n",
    "\n",
    "Q5. Describe the multiple linear regression model. How does it differ from simple linear regression?\n",
    "Ans.\n",
    "     Multiple linear regression extends simple linear regression by considering multiple independent variables instead of just one. It models the relationship between a dependent variable and multiple predictors simultaneously. This allows for capturing the combined effect of multiple variables on the outcome. Unlike simple linear regression, which assumes a linear relationship between one predictor and the outcome, multiple linear regression accounts for the influence of multiple predictors on the dependent variable.\n",
    "\n",
    "Q6. Explain the concept of multicollinearity in multiple linear regression. How can you detect and\n",
    "address this issue?\n",
    "Ans. \n",
    "   Multicollinearity refers to a situation in multiple linear regression where two or more independent variables are highly correlated with each other. It can cause problems in the regression model, such as unstable coefficient estimates and difficulty in interpreting the individual effects of the correlated variables. To detect multicollinearity, you can calculate correlation coefficients between independent variables or use statistical measures like variance inflation factor (VIF). To address multicollinearity, options include removing one of the correlated variables, combining them into a single variable, or using regularization techniques like ridge regression or lasso regression.\n",
    "\n",
    "Q7. Describe the polynomial regression model. How is it different from linear regression?\n",
    "Ans.\n",
    "    Polynomial regression is a form of regression analysis where the relationship between the independent variable(s) and the dependent variable is modeled as an nth degree polynomial. It allows for capturing non-linear relationships between variables. Unlike linear regression, which assumes a linear relationship, polynomial regression can fit curves and capture more complex patterns in the data.\n",
    "    \n",
    "Q8. What are the advantages and disadvantages of polynomial regression compared to linear\n",
    "regression? In what situations would you prefer to use polynomial regression?\n",
    "Ans. \n",
    "   The advantages of polynomial regression over linear regression include the ability to capture non-linear relationships, flexibility in fitting complex patterns, and potentially higher prediction accuracy. However, polynomial regression can be more prone to overfitting, especially with higher degree polynomials, leading to poor generalization to new data. It may also be computationally more expensive and harder to interpret compared to linear regression. Polynomial regression is preferred when there is evidence of non-linear relationships between variables and when capturing higher-order interactions is important for accurate predictions.\n",
    "   "
   ]
  }
 ],
 "metadata": {
  "language_info": {
   "name": "python"
  },
  "orig_nbformat": 4
 },
 "nbformat": 4,
 "nbformat_minor": 2
}
